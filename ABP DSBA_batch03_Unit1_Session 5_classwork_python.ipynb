{
 "cells": [
  {
   "cell_type": "markdown",
   "metadata": {},
   "source": [
    "## Python in more depth\n",
    "<H1> asdasd ad </H1>"
   ]
  },
  {
   "cell_type": "code",
   "execution_count": null,
   "metadata": {},
   "outputs": [],
   "source": []
  },
  {
   "cell_type": "code",
   "execution_count": 3,
   "metadata": {},
   "outputs": [
    {
     "data": {
      "text/plain": [
       "5"
      ]
     },
     "execution_count": 3,
     "metadata": {},
     "output_type": "execute_result"
    }
   ],
   "source": [
    "x = 5\n",
    "x"
   ]
  },
  {
   "cell_type": "code",
   "execution_count": 4,
   "metadata": {},
   "outputs": [
    {
     "name": "stdout",
     "output_type": "stream",
     "text": [
      "200\n"
     ]
    }
   ],
   "source": [
    "length = 25\n",
    "width = 8\n",
    "area = length * width\n",
    "print(area)"
   ]
  },
  {
   "cell_type": "code",
   "execution_count": 5,
   "metadata": {},
   "outputs": [
    {
     "data": {
      "text/plain": [
       "int"
      ]
     },
     "execution_count": 5,
     "metadata": {},
     "output_type": "execute_result"
    }
   ],
   "source": [
    "type(area)"
   ]
  },
  {
   "cell_type": "code",
   "execution_count": 6,
   "metadata": {},
   "outputs": [
    {
     "data": {
      "text/plain": [
       "str"
      ]
     },
     "execution_count": 6,
     "metadata": {},
     "output_type": "execute_result"
    }
   ],
   "source": [
    "name = \"test_noman.py  \"\n",
    "type(name)"
   ]
  },
  {
   "cell_type": "code",
   "execution_count": null,
   "metadata": {},
   "outputs": [],
   "source": [
    "myName = \"That is my name\"\n",
    "print(myName)\n",
    "\n",
    "print(2 + 5 * 8)\n",
    "print(2 + 5.0 * 8)\n",
    "# print(quotient)\n",
    "quotient = 13 / 2\n",
    "print(quotient)"
   ]
  },
  {
   "cell_type": "code",
   "execution_count": 7,
   "metadata": {},
   "outputs": [
    {
     "name": "stdout",
     "output_type": "stream",
     "text": [
      "<class 'str'>\n"
     ]
    }
   ],
   "source": [
    "print(type(name))"
   ]
  },
  {
   "cell_type": "code",
   "execution_count": 9,
   "metadata": {},
   "outputs": [
    {
     "name": "stdout",
     "output_type": "stream",
     "text": [
      "5\n"
     ]
    },
    {
     "data": {
      "text/plain": [
       "3.0"
      ]
     },
     "execution_count": 9,
     "metadata": {},
     "output_type": "execute_result"
    }
   ],
   "source": [
    "# need to understand the basic mathematical operations \n",
    "print(2 + 3)\n",
    "2.2 + 3.4\n",
    "3-1\n",
    "3.4 - 1.1\n",
    "2 * 3\n",
    "3 + 3.1\n",
    "3.0/2\n",
    "3/2\n",
    "3.0/2\n",
    "3//2\n",
    "9 % 4\n",
    "9 % 3\n",
    "9 % 5\n",
    "\n",
    "# 125 minutes is 2 hours and 5 minutes\n",
    "125 // 60\n",
    "125 % 60\n",
    "\n",
    "3**2\n",
    "2**3\n",
    "4**0.5\n",
    "9**0.5"
   ]
  },
  {
   "cell_type": "code",
   "execution_count": 11,
   "metadata": {},
   "outputs": [
    {
     "data": {
      "text/plain": [
       "5"
      ]
     },
     "execution_count": 11,
     "metadata": {},
     "output_type": "execute_result"
    }
   ],
   "source": [
    "125 % 60"
   ]
  },
  {
   "cell_type": "code",
   "execution_count": 12,
   "metadata": {},
   "outputs": [
    {
     "data": {
      "text/plain": [
       "9"
      ]
     },
     "execution_count": 12,
     "metadata": {},
     "output_type": "execute_result"
    }
   ],
   "source": [
    "3**2"
   ]
  },
  {
   "cell_type": "code",
   "execution_count": 14,
   "metadata": {},
   "outputs": [
    {
     "data": {
      "text/plain": [
       "18"
      ]
     },
     "execution_count": 14,
     "metadata": {},
     "output_type": "execute_result"
    }
   ],
   "source": [
    "#2 + 5 * 8\n",
    "2 * 5 + 8\n",
    "#2 * (5 + 8)"
   ]
  },
  {
   "cell_type": "code",
   "execution_count": 17,
   "metadata": {},
   "outputs": [
    {
     "name": "stdout",
     "output_type": "stream",
     "text": [
      "David has no other name\n",
      "Simple Simple Simple Simple Simple \n",
      "40\n"
     ]
    }
   ],
   "source": [
    "print(\"David\" + \" has no other name\")\n",
    "print(5 * (\"Simple\" + \" \"))\n",
    "print(5*8)"
   ]
  },
  {
   "cell_type": "code",
   "execution_count": 27,
   "metadata": {},
   "outputs": [
    {
     "name": "stdout",
     "output_type": "stream",
     "text": [
      "42       30\n"
     ]
    },
    {
     "data": {
      "text/plain": [
       "int"
      ]
     },
     "execution_count": 27,
     "metadata": {},
     "output_type": "execute_result"
    }
   ],
   "source": [
    "print(\"42       \"                                   +\"30\")\n",
    "#print(42+\"30\") \n",
    "# type casting\n",
    "\n",
    "type(str(42))\n",
    "\n",
    "type(int(\"42\"))\n",
    "\n",
    "\n"
   ]
  },
  {
   "cell_type": "code",
   "execution_count": null,
   "metadata": {},
   "outputs": [],
   "source": [
    "# some more experiements\n",
    "print(42+13) # output is 55\n",
    "print(\"42\"+\"13\") # output is 4213 - string cancatenation\n",
    "print (\"42\" + 13) # does not work, why?\n",
    "\n",
    "# type casting\n",
    "print(\"42\" + str(13))\n",
    "\n",
    "print(int(\"42\") +13) # it works ! why?\n",
    "\n",
    "print(float(42+13))\n",
    "\n",
    "print(float(42)+float(13))\n",
    "\n",
    "# type checking\n",
    "type(david)\n",
    "type(42+13)\n",
    "type(42.5+13.5)\n",
    "type(\"42\")"
   ]
  },
  {
   "cell_type": "code",
   "execution_count": 29,
   "metadata": {},
   "outputs": [
    {
     "name": "stdout",
     "output_type": "stream",
     "text": [
      "42.0\n"
     ]
    }
   ],
   "source": [
    "print(float(42))"
   ]
  },
  {
   "cell_type": "code",
   "execution_count": null,
   "metadata": {},
   "outputs": [],
   "source": [
    "print(\"here is he result\" + str(42+13)))"
   ]
  },
  {
   "cell_type": "code",
   "execution_count": 30,
   "metadata": {},
   "outputs": [
    {
     "name": "stdout",
     "output_type": "stream",
     "text": [
      "Hello. It's lovely to see you.\n",
      "I said hello, lovely to see you.\n",
      "I said hello, lovely to see you.\n"
     ]
    }
   ],
   "source": [
    "print(\"Hello. It's lovely to see you.\")\n",
    "print(\"I said hello, lovely to see you.\")\n",
    "print('I said hello, lovely to see you.')"
   ]
  },
  {
   "cell_type": "code",
   "execution_count": 33,
   "metadata": {},
   "outputs": [
    {
     "name": "stdout",
     "output_type": "stream",
     "text": [
      "I said hello, lovely to see you.\n",
      "I said hello, lovely to see you.\n"
     ]
    }
   ],
   "source": [
    "def printMyMsgs():\n",
    "    print(\"Hello. It's lovely to see you.\")\n",
    "    print(\"I said hello, lovely to see you.\")\n",
    "    print('I said hello, lovely to see you.')"
   ]
  },
  {
   "cell_type": "code",
   "execution_count": 34,
   "metadata": {},
   "outputs": [
    {
     "name": "stdout",
     "output_type": "stream",
     "text": [
      "Hello. It's lovely to see you.\n"
     ]
    }
   ],
   "source": [
    "printMyMsgs()"
   ]
  },
  {
   "cell_type": "code",
   "execution_count": null,
   "metadata": {},
   "outputs": [],
   "source": [
    "printMyMsgs <- function()\n",
    "{\n",
    "print(\"Hello. It's lovely to see you.\")\n",
    "print(\"I said hello, lovely to see you.\")\n",
    "print('I said hello, lovely to see you.')\n",
    "}"
   ]
  },
  {
   "cell_type": "code",
   "execution_count": null,
   "metadata": {},
   "outputs": [],
   "source": [
    "printMyMsgs()"
   ]
  },
  {
   "cell_type": "code",
   "execution_count": 38,
   "metadata": {},
   "outputs": [],
   "source": [
    "def anotherFunc(x):\n",
    "    y = x**2\n",
    "    print (y)"
   ]
  },
  {
   "cell_type": "code",
   "execution_count": 39,
   "metadata": {},
   "outputs": [
    {
     "name": "stdout",
     "output_type": "stream",
     "text": [
      "9\n"
     ]
    }
   ],
   "source": [
    "anotherFunc(3)"
   ]
  },
  {
   "cell_type": "code",
   "execution_count": 54,
   "metadata": {},
   "outputs": [],
   "source": [
    "def doFunMath1(x,y):\n",
    "    z = x+y+1\n",
    "    return z"
   ]
  },
  {
   "cell_type": "code",
   "execution_count": 55,
   "metadata": {},
   "outputs": [
    {
     "data": {
      "text/plain": [
       "8"
      ]
     },
     "execution_count": 55,
     "metadata": {},
     "output_type": "execute_result"
    }
   ],
   "source": [
    "myvar1 = doFunMath1(3,4)\n",
    "myvar1"
   ]
  },
  {
   "cell_type": "code",
   "execution_count": 56,
   "metadata": {},
   "outputs": [],
   "source": [
    "def doFunMath2(x,y):\n",
    "    z = x+y+1\n",
    "    print(z)"
   ]
  },
  {
   "cell_type": "code",
   "execution_count": 57,
   "metadata": {},
   "outputs": [
    {
     "name": "stdout",
     "output_type": "stream",
     "text": [
      "8\n"
     ]
    }
   ],
   "source": [
    "myvar2 = doFunMath2(3,4)\n",
    "myvar2"
   ]
  },
  {
   "cell_type": "code",
   "execution_count": 58,
   "metadata": {},
   "outputs": [],
   "source": [
    "myStr = \"Hello World\"\n",
    "#https://docs.python.org/3/library/stdtypes.html#string-methods"
   ]
  },
  {
   "cell_type": "code",
   "execution_count": 61,
   "metadata": {},
   "outputs": [
    {
     "data": {
      "text/plain": [
       "'HELLO WORLD'"
      ]
     },
     "execution_count": 61,
     "metadata": {},
     "output_type": "execute_result"
    }
   ],
   "source": [
    "myStr.lower()\n",
    "myStr.upper()"
   ]
  },
  {
   "cell_type": "code",
   "execution_count": 64,
   "metadata": {},
   "outputs": [
    {
     "data": {
      "text/plain": [
       "'W'"
      ]
     },
     "execution_count": 64,
     "metadata": {},
     "output_type": "execute_result"
    }
   ],
   "source": [
    "myStr[5]\n",
    "myStr[6]"
   ]
  },
  {
   "cell_type": "code",
   "execution_count": 65,
   "metadata": {},
   "outputs": [
    {
     "ename": "TypeError",
     "evalue": "'str' object does not support item assignment",
     "output_type": "error",
     "traceback": [
      "\u001b[1;31m---------------------------------------------------------------------------\u001b[0m",
      "\u001b[1;31mTypeError\u001b[0m                                 Traceback (most recent call last)",
      "\u001b[1;32mg:\\My Drive\\ABP\\ABP DSBA Batch 03\\Unit 01\\Session 05\\ABP DSBA_batch03_Unit1_Session 5_classwork_python.ipynb Cell 32\u001b[0m line \u001b[0;36m1\n\u001b[1;32m----> <a href='vscode-notebook-cell:/g%3A/My%20Drive/ABP/ABP%20DSBA%20Batch%2003/Unit%2001/Session%2005/ABP%20DSBA_batch03_Unit1_Session%205_classwork_python.ipynb#X44sZmlsZQ%3D%3D?line=0'>1</a>\u001b[0m myStr[\u001b[39m6\u001b[39m] \u001b[39m=\u001b[39m \u001b[39m'\u001b[39m\u001b[39mX\u001b[39m\u001b[39m'\u001b[39m\n",
      "\u001b[1;31mTypeError\u001b[0m: 'str' object does not support item assignment"
     ]
    }
   ],
   "source": [
    "\n",
    "myStr[6] = 'X' # strings are immutable"
   ]
  },
  {
   "cell_type": "markdown",
   "metadata": {},
   "source": [
    "# Python complex data structures\n"
   ]
  },
  {
   "cell_type": "code",
   "execution_count": 66,
   "metadata": {},
   "outputs": [
    {
     "data": {
      "text/plain": [
       "34"
      ]
     },
     "execution_count": 66,
     "metadata": {},
     "output_type": "execute_result"
    }
   ],
   "source": [
    "#list\n",
    "names = ['Henry', ['Simon','Kimon'], 'Keith', 34, True,'Eugene']\n",
    "names\n",
    "names[3]"
   ]
  },
  {
   "cell_type": "code",
   "execution_count": 68,
   "metadata": {},
   "outputs": [],
   "source": [
    "listC = [ \"Food groups\", \n",
    "         [\"protein\", [\"meat\", \"fish\", \"egg\", \"soy\"]], \n",
    "         [\"carbohydrate\",[\"sugar\", \"starch\"]], \n",
    "         [\"fat\", [\"oil\", \"lard\", \"butter\"]],\n",
    "         [\"drinks\", [\"coffee\", \"milk\", \"corbonated\"]]\n",
    "        ]"
   ]
  },
  {
   "cell_type": "code",
   "execution_count": 76,
   "metadata": {},
   "outputs": [
    {
     "data": {
      "text/plain": [
       "'sugar'"
      ]
     },
     "execution_count": 76,
     "metadata": {},
     "output_type": "execute_result"
    }
   ],
   "source": [
    "listC[2][1][0]"
   ]
  },
  {
   "cell_type": "code",
   "execution_count": 81,
   "metadata": {},
   "outputs": [
    {
     "data": {
      "text/plain": [
       "['P', 'o', 'n', 'n', 'y']"
      ]
     },
     "execution_count": 81,
     "metadata": {},
     "output_type": "execute_result"
    }
   ],
   "source": [
    "nameList = ['P','e','n','n','y']\n",
    "nameList[1] = 'o'\n",
    "nameList # lists are mutable"
   ]
  },
  {
   "cell_type": "code",
   "execution_count": null,
   "metadata": {},
   "outputs": [],
   "source": [
    "name = 'Penny'"
   ]
  },
  {
   "cell_type": "code",
   "execution_count": null,
   "metadata": {},
   "outputs": [],
   "source": [
    "list()"
   ]
  },
  {
   "cell_type": "code",
   "execution_count": 87,
   "metadata": {},
   "outputs": [
    {
     "data": {
      "text/plain": [
       "34"
      ]
     },
     "execution_count": 87,
     "metadata": {},
     "output_type": "execute_result"
    }
   ],
   "source": [
    "names = ['Henry', 'Simon', 'Keith', 34, True,'Eugene']\n",
    "type(names)\n",
    "names[3]"
   ]
  },
  {
   "cell_type": "code",
   "execution_count": 84,
   "metadata": {},
   "outputs": [
    {
     "data": {
      "text/plain": [
       "set"
      ]
     },
     "execution_count": 84,
     "metadata": {},
     "output_type": "execute_result"
    }
   ],
   "source": [
    "names = {'Henry', 'Simon', 'Keith', 34, True,'Eugene'}\n",
    "type(names)"
   ]
  },
  {
   "cell_type": "code",
   "execution_count": 88,
   "metadata": {},
   "outputs": [
    {
     "data": {
      "text/plain": [
       "34"
      ]
     },
     "execution_count": 88,
     "metadata": {},
     "output_type": "execute_result"
    }
   ],
   "source": [
    "names = ('Henry', 'Simon', 'Keith', 34, True,'Eugene')\n",
    "# names[1] = 'noman'\n",
    "type(names)\n",
    "names[3]"
   ]
  },
  {
   "cell_type": "code",
   "execution_count": 89,
   "metadata": {},
   "outputs": [
    {
     "data": {
      "text/plain": [
       "dict"
      ]
     },
     "execution_count": 89,
     "metadata": {},
     "output_type": "execute_result"
    }
   ],
   "source": [
    "names = {\"std1\": 'Henry', \"std2\": 'Simon', \"std3\": 'Keith',\"std4\": 'Eugene'}\n",
    "type(names)"
   ]
  },
  {
   "cell_type": "code",
   "execution_count": 94,
   "metadata": {},
   "outputs": [
    {
     "name": "stdout",
     "output_type": "stream",
     "text": [
      "1.93\n",
      "lots of fun\n",
      "dict_keys(['boat', 'wedding', 'eclair', 'pink', 'ynambu'])\n",
      "dict_values(['lots of fun', 'a form of ceremony', 'a cake, long in shape but short in duration', 'a yellow lake', 'a very large tinamou'])\n"
     ]
    }
   ],
   "source": [
    "height = [1.52, 1.75, 1.93, 1.45, 1.72]\n",
    "xyz = {\n",
    "              'boat' : \"lots of fun\", \n",
    "              'wedding':\"a form of ceremony\", \n",
    "              'eclair': \"a cake, long in shape but short in duration\", \n",
    "              'pink':\"a yellow lake\", \n",
    "              'ynambu':\"a very large tinamou\"\n",
    "             }\n",
    "\n",
    "print(height[2])\n",
    "print(xyz['boat'])\n",
    "\n",
    "print(xyz.keys())\n",
    "print(xyz.values())"
   ]
  },
  {
   "cell_type": "code",
   "execution_count": null,
   "metadata": {},
   "outputs": [],
   "source": []
  }
 ],
 "metadata": {
  "kernelspec": {
   "display_name": "base",
   "language": "python",
   "name": "python3"
  },
  "language_info": {
   "codemirror_mode": {
    "name": "ipython",
    "version": 3
   },
   "file_extension": ".py",
   "mimetype": "text/x-python",
   "name": "python",
   "nbconvert_exporter": "python",
   "pygments_lexer": "ipython3",
   "version": "3.11.5"
  }
 },
 "nbformat": 4,
 "nbformat_minor": 2
}
