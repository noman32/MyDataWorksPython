{
 "cells": [
  {
   "cell_type": "markdown",
   "id": "b30a567d",
   "metadata": {},
   "source": [
    "# Python\n",
    "\n",
    "## Introduction, arithmetic, variables, types! ##"
   ]
  },
  {
   "cell_type": "code",
   "execution_count": 3,
   "id": "d77e0b69",
   "metadata": {},
   "outputs": [],
   "source": [
    "x = 5"
   ]
  },
  {
   "cell_type": "code",
   "execution_count": null,
   "id": "c3043297",
   "metadata": {},
   "outputs": [],
   "source": [
    "print(x)"
   ]
  },
  {
   "cell_type": "code",
   "execution_count": null,
   "id": "ee12f6cc",
   "metadata": {},
   "outputs": [],
   "source": [
    "length = 25\n",
    "width = 8\n",
    "area = length * width\n",
    "print(area)"
   ]
  },
  {
   "cell_type": "markdown",
   "id": "799e5f75",
   "metadata": {},
   "source": [
    "## What’s a variable?\n",
    "- Variables are a way of storing values in computer programs\n",
    "- A variable has a name, a type, and a value\n",
    "- The value can be varied, by assigning a new value\n",
    "\n",
    "- The type can also be varied, but this is less usual. We should use informative names for variables, so the same name generally doesn’t apply to different types\n",
    "\n",
    "we are now using type() command"
   ]
  },
  {
   "cell_type": "code",
   "execution_count": null,
   "id": "d4f4717c",
   "metadata": {},
   "outputs": [],
   "source": [
    "age = 43.5\n",
    "type(age)"
   ]
  },
  {
   "cell_type": "code",
   "execution_count": null,
   "id": "ddf7ee84",
   "metadata": {},
   "outputs": [],
   "source": [
    "age = 43\n",
    "type(age)"
   ]
  },
  {
   "cell_type": "code",
   "execution_count": null,
   "id": "4e9473c2",
   "metadata": {},
   "outputs": [],
   "source": [
    "age = \"noman\"\n",
    "type(age)"
   ]
  },
  {
   "cell_type": "markdown",
   "id": "98b9edaf",
   "metadata": {},
   "source": [
    "## ‘=’ doesn’t mean ‘equals'\n",
    "The ‘=’ symbol is one of the trickiest concepts in programming\n",
    "\n",
    "‘x = y’ does not mean ‘x is equal to y’\n",
    "\n",
    "It means ‘take the value of y (whatever that is) and assign it to the thing called x’  \n",
    "\t\tx and y are both variables \n",
    "        \n",
    "This is called an assignment statement\n",
    "\n",
    "It’s an instruction, not a statement of fact\n",
    "\n",
    "Once this one has been done, the ‘variable’ called x will have the same value as y\n",
    "\n",
    "The assignment statement takes the value of what’s on its right and assigns it to the variable on its left\n"
   ]
  },
  {
   "cell_type": "code",
   "execution_count": null,
   "id": "f0efc92d",
   "metadata": {},
   "outputs": [],
   "source": [
    "y = 4\n",
    "x = y\n",
    "print(x)\n",
    "#print(\"x\")"
   ]
  },
  {
   "cell_type": "markdown",
   "id": "2e023d33",
   "metadata": {},
   "source": [
    "## Print has nothing to do with printers\n",
    "We used Python’s print command\n",
    "Print doesn’t send things to the printer; it displays them on the screen, in the terminal\n",
    "\n",
    "It doesn’t just print the values of variables; it prints anything for which it can work out a value\n",
    "\n",
    "Try print(13), print(-8.275), print(13 - 8.275), and print(\"My name\")\n",
    "\n",
    "To see what happens when we ask it to print something for which it can’t work out a value, try print(size), print(My name), and print(\"My name\" + 15)\n",
    "\n",
    "## Python can do arithmetic!\n",
    "Here are some more things to try in the terminal – make the effort to understand them:"
   ]
  },
  {
   "cell_type": "code",
   "execution_count": null,
   "id": "3e75baca",
   "metadata": {},
   "outputs": [],
   "source": [
    "print(513 * 25)\n",
    "aNumber = 513 * 25\n",
    "print(aNumber)"
   ]
  },
  {
   "cell_type": "code",
   "execution_count": null,
   "id": "aef993ef",
   "metadata": {},
   "outputs": [],
   "source": [
    "myName = \"That is my name\"\n",
    "print(myName)\n",
    "\n",
    "print(2 + 5 * 8)\n",
    "print(2 + 5.0 * 8)\n",
    "# print(quotient)\n",
    "quotient = 13 / 2\n",
    "print(quotient)"
   ]
  },
  {
   "cell_type": "code",
   "execution_count": null,
   "id": "12d78d12",
   "metadata": {},
   "outputs": [],
   "source": [
    "9 % 4"
   ]
  },
  {
   "cell_type": "code",
   "execution_count": null,
   "id": "ac5c7688",
   "metadata": {},
   "outputs": [],
   "source": [
    "125 % 60"
   ]
  },
  {
   "cell_type": "code",
   "execution_count": null,
   "id": "28053652",
   "metadata": {},
   "outputs": [],
   "source": [
    "# need to understand the basic mathematical operations \n",
    "2 + 3\n",
    "2.2 + 3.4\n",
    "3-1\n",
    "3.4 - 1.1\n",
    "2 * 3\n",
    "3 + 3.1\n",
    "3.0/2\n",
    "3/2\n",
    "3.0/2\n",
    "3//2\n",
    "9 % 4\n",
    "9 % 3\n",
    "9 % 5\n",
    "\n",
    "# 125 minutes is 2 hours and 5 minutes\n",
    "125 // 60\n",
    "125 % 60\n",
    "\n",
    "3**2\n",
    "2**3\n",
    "4**0.5\n",
    "9**0.5"
   ]
  },
  {
   "cell_type": "code",
   "execution_count": null,
   "id": "e9d563bc",
   "metadata": {},
   "outputs": [],
   "source": [
    "9//2\n",
    "8%2\n",
    "#9/2"
   ]
  },
  {
   "cell_type": "markdown",
   "id": "f2d41a95",
   "metadata": {},
   "source": [
    "## Order of Operation!\n",
    "Arithmetic operations are calculated in the order of precedence"
   ]
  },
  {
   "cell_type": "code",
   "execution_count": null,
   "id": "b4e89ab0",
   "metadata": {},
   "outputs": [],
   "source": [
    "2 + 5 * 8\n",
    "2 * 5 + 8\n",
    "2 * (5 + 8)"
   ]
  },
  {
   "cell_type": "code",
   "execution_count": null,
   "id": "3f4eddf6",
   "metadata": {},
   "outputs": [],
   "source": [
    "result = 4\n",
    "print(result)"
   ]
  },
  {
   "cell_type": "markdown",
   "id": "e1c6d907",
   "metadata": {},
   "source": [
    "## Strings – concatenation\n",
    "- Arithmetic is really about numbers, but two of the arithmetic operators can also be used with strings\n",
    "- (plus sign)+ joins two strings end to end, called concatenation\n"
   ]
  },
  {
   "cell_type": "code",
   "execution_count": null,
   "id": "0ba8b776",
   "metadata": {},
   "outputs": [],
   "source": [
    "print(\"David\" + \"has no other name\")\n",
    "print(\"David\" + \" has no other name\")\n",
    "print(5 * (\"Simple\" + \" \"))"
   ]
  },
  {
   "cell_type": "markdown",
   "id": "3e6aadef",
   "metadata": {},
   "source": [
    "## Every item has a type\n",
    "- integer – a whole number\n",
    "- float – a number with a decimal point (even if the decimal point is followed just by zeros)\n",
    "- string – a sequence of characters enclosed in quotation marks\n",
    "- We’ve seen that different types can have different things done with them\n",
    "- We can’t add (or concatenate) a string and a number\n",
    "- Division of two integers always gives a float result, even if it has 0 after the decimal point\n",
    "- You can find the type of an expression with the type() function\n",
    "\n",
    "integer – a whole number\n",
    "\t 3, 9, 345, 0, -12, 5000\n",
    "\n",
    "float – a number with a decimal point (even if the decimal point is followed by zeros)\n",
    "\t 23.40, -233.336, -11.2,\n",
    "\n",
    "string – a sequence of characters enclosed in quotation marks\n",
    "\t “This is an example”\n",
    "\n",
    "boolean – true/false (actually an integer in python)\n",
    "              0 – false, 1 is true (or any integer > 1) Use the word true or false\n",
    "\n",
    "character – a single character enclosed in quotation Marks\n",
    "\t “c”, “A”, “!”\n"
   ]
  },
  {
   "cell_type": "code",
   "execution_count": null,
   "id": "67392c4c",
   "metadata": {},
   "outputs": [],
   "source": [
    "#print (david)\n",
    "print(\"david\")\n",
    "\n",
    "# now lets define david\n",
    "david = \"my name is david\" # defining the variable. This is a string var, because it contains a String\n",
    "print(david) # now it should work"
   ]
  },
  {
   "cell_type": "code",
   "execution_count": null,
   "id": "91a6089a",
   "metadata": {},
   "outputs": [],
   "source": [
    "print(\"42\" + str(13))\n",
    "print(int(\"42\") + 13) "
   ]
  },
  {
   "cell_type": "code",
   "execution_count": null,
   "id": "27bea547",
   "metadata": {},
   "outputs": [],
   "source": [
    "# some more experiements\n",
    "print(42+13) # output is 55\n",
    "print(\"42\"+\"13\") # output is 4213 - string cancatenation\n",
    "print (\"42\" + 13) # does not work, why?\n",
    "\n",
    "# type casting\n",
    "print(\"42\" + str(13))\n",
    "\n",
    "print(int(\"42\") +13) # it works ! why?\n",
    "\n",
    "print(float(42+13))\n",
    "\n",
    "print(float(42)+float(13))\n",
    "\n",
    "# type checking\n",
    "type(david)\n",
    "type(42+13)\n",
    "type(42.5+13.5)\n",
    "type(\"42\")"
   ]
  },
  {
   "attachments": {
    "image-2.png": {
     "image/png": "[encoded data removed]"
    },
    "image-3.png": {
     "image/png": "[encoded data removed]"
    },
    "image.png": {
     "image/png": "[encoded data removed]"
    }
   },
   "cell_type": "markdown",
   "id": "756bba67",
   "metadata": {},
   "source": [
    "## Strings are like arrays\n",
    "A string is stored like an array of characters, with each character having its own index\n",
    "\n",
    "![image.png](attachment:image.png)\n",
    "\n",
    "## Strings are indexed collections\n",
    "- Because a string is a collection of characters\n",
    "- we can access each individual character\n",
    "- using the name of the string with different indexes, numbers identifying their position in the string\n",
    "- and the indexes always start at zero\n",
    "\n",
    "![image-2.png](attachment:image-2.png)\n",
    "\n",
    "Substring with indexes:\n",
    "\n",
    "![image-3.png](attachment:image-3.png)"
   ]
  },
  {
   "cell_type": "markdown",
   "id": "9e95d5ea",
   "metadata": {},
   "source": [
    "### More string manipulation"
   ]
  },
  {
   "cell_type": "code",
   "execution_count": null,
   "id": "966e0d3e",
   "metadata": {},
   "outputs": [],
   "source": [
    "myStr = \"Apple\"\n",
    "myStr[0]\n",
    "myStr[0] = 'm'"
   ]
  },
  {
   "cell_type": "code",
   "execution_count": null,
   "id": "fc2cdfb9",
   "metadata": {},
   "outputs": [],
   "source": [
    "myStr = \"hello\"\n",
    "myStr[2:]\n",
    "#myStr[0] = 'd'"
   ]
  },
  {
   "cell_type": "markdown",
   "id": "a93e081e",
   "metadata": {},
   "source": [
    "## Working with Strings\n",
    "#### https://docs.python.org/3/library/stdtypes.html#string-methods"
   ]
  },
  {
   "cell_type": "code",
   "execution_count": null,
   "id": "5ec7f529",
   "metadata": {},
   "outputs": [],
   "source": [
    "len(\"Check Length\")"
   ]
  },
  {
   "cell_type": "code",
   "execution_count": null,
   "id": "e7437957",
   "metadata": {},
   "outputs": [],
   "source": [
    "response = \"A string\"\n",
    "len(response)"
   ]
  },
  {
   "cell_type": "code",
   "execution_count": null,
   "id": "d25325f9",
   "metadata": {},
   "outputs": [],
   "source": [
    "response.startswith(\"A s\")"
   ]
  },
  {
   "cell_type": "code",
   "execution_count": null,
   "id": "4d5baa26",
   "metadata": {},
   "outputs": [],
   "source": [
    "print(response.startswith(\"A s\")) "
   ]
  },
  {
   "cell_type": "code",
   "execution_count": null,
   "id": "f70c07bd",
   "metadata": {},
   "outputs": [],
   "source": [
    "print(response.endswith(\"bing\"))"
   ]
  },
  {
   "cell_type": "code",
   "execution_count": null,
   "id": "33de6b6a",
   "metadata": {},
   "outputs": [],
   "source": [
    "response.find(\"str\")"
   ]
  },
  {
   "cell_type": "code",
   "execution_count": null,
   "id": "5ae3a170",
   "metadata": {},
   "outputs": [],
   "source": [
    "start = 4\n",
    "response.find(\"str\", start)"
   ]
  },
  {
   "cell_type": "code",
   "execution_count": null,
   "id": "ef92bbe8",
   "metadata": {},
   "outputs": [],
   "source": [
    "response.find(str, start, finish)"
   ]
  },
  {
   "cell_type": "code",
   "execution_count": null,
   "id": "bc5a7287",
   "metadata": {},
   "outputs": [],
   "source": [
    "response.upper()"
   ]
  },
  {
   "cell_type": "code",
   "execution_count": null,
   "id": "da252efd",
   "metadata": {},
   "outputs": [],
   "source": [
    "response.swapcase()"
   ]
  },
  {
   "cell_type": "code",
   "execution_count": null,
   "id": "060f1b8f",
   "metadata": {},
   "outputs": [],
   "source": [
    "response.isalpha()"
   ]
  },
  {
   "cell_type": "code",
   "execution_count": null,
   "id": "9a1bb0ae",
   "metadata": {},
   "outputs": [],
   "source": [
    "response.isdigit()"
   ]
  },
  {
   "cell_type": "code",
   "execution_count": null,
   "id": "4c345856",
   "metadata": {},
   "outputs": [],
   "source": [
    "# remove newlines\n",
    "newString = aString.replace(\"\\n\",\" \")\n",
    "\n",
    "# remove carriage returns - sometimes in windows\n",
    "newString = aString.replace(\"\\r\",\" \")  \n",
    "\n",
    "# remove tabs\n",
    "newString = aString.replace(\"\\t\",\" \")  \n",
    "\n",
    "# remove trailing and leading white space\n",
    "newString = aString.strip()  "
   ]
  },
  {
   "cell_type": "markdown",
   "id": "bdaa3366",
   "metadata": {},
   "source": [
    "### Data structures"
   ]
  },
  {
   "cell_type": "code",
   "execution_count": null,
   "id": "c5c0ac90",
   "metadata": {},
   "outputs": [],
   "source": [
    "#list\n",
    "names = ['Henry', 'Simon', 'Keith', 'Han Kee', 'Eugene']\n",
    "names\n",
    "names[3]"
   ]
  },
  {
   "cell_type": "code",
   "execution_count": null,
   "id": "55a3ff8c",
   "metadata": {},
   "outputs": [],
   "source": [
    "listA = [\"This\", \"list is\", True, 2, \"you\"]\n",
    "listA"
   ]
  },
  {
   "cell_type": "code",
   "execution_count": 30,
   "id": "4faecb42",
   "metadata": {},
   "outputs": [],
   "source": [
    "listC = [\n",
    "        \"Food groups\", \n",
    "         [\"protein\", [\"meat\", \"fish\", \"egg\", \"soy\"]], \n",
    "         [\"carbohydrate\",[\"sugar\", \"starch\"]], \n",
    "         [\"fat\", [\"oil\", \"lard\", \"butter\"]],\n",
    "         [\"drinks\", [\"coffee\", \"milk\", \"carbonated\"]]\n",
    "        ]"
   ]
  },
  {
   "cell_type": "code",
   "execution_count": null,
   "id": "e623368d",
   "metadata": {},
   "outputs": [],
   "source": [
    "listC[4][1][2][3] #indexing"
   ]
  },
  {
   "cell_type": "markdown",
   "id": "fac18f90",
   "metadata": {},
   "source": [
    "### Lists are mutable"
   ]
  },
  {
   "cell_type": "code",
   "execution_count": null,
   "id": "dad11455",
   "metadata": {},
   "outputs": [],
   "source": [
    "nameList = ['P','e','n','n','y']\n",
    "nameList[0]"
   ]
  },
  {
   "cell_type": "code",
   "execution_count": null,
   "id": "16ddcfe4",
   "metadata": {},
   "outputs": [],
   "source": [
    "nameList[0] = 'L'\n",
    "nameList"
   ]
  },
  {
   "cell_type": "markdown",
   "id": "5f5f0060",
   "metadata": {},
   "source": [
    "### Lists operations"
   ]
  },
  {
   "cell_type": "code",
   "execution_count": 42,
   "id": "cdf0b627",
   "metadata": {},
   "outputs": [],
   "source": [
    "list1 = [1, 2, 3] \n",
    "list2 = [13, 14, 15]"
   ]
  },
  {
   "cell_type": "code",
   "execution_count": null,
   "id": "b3c00bd0",
   "metadata": {},
   "outputs": [],
   "source": [
    "list1 + list2"
   ]
  },
  {
   "cell_type": "code",
   "execution_count": 44,
   "id": "6c358b7b",
   "metadata": {},
   "outputs": [],
   "source": [
    "deposit = [100,350,300,50,320]"
   ]
  },
  {
   "cell_type": "code",
   "execution_count": null,
   "id": "a9582117",
   "metadata": {},
   "outputs": [],
   "source": [
    "#deposit.append(500) \n",
    "#deposit.insert(2, 123) \n",
    "#deposit.insert(8, 123) \n",
    "#deposit.sort()\n",
    "#deposit.reverse()\n",
    "#print(deposit.count(500))\n",
    "print(max(deposit))\n",
    "#min(deposit) \n",
    "#deposit.pop(3)\n",
    "#del deposit[index] \n",
    "#del deposit[low:high]\n",
    "print(deposit)"
   ]
  },
  {
   "cell_type": "markdown",
   "id": "aa21d360",
   "metadata": {},
   "source": [
    "### Dictionaries"
   ]
  },
  {
   "cell_type": "code",
   "execution_count": null,
   "id": "9646a5b6",
   "metadata": {},
   "outputs": [],
   "source": [
    "height = [1.52, 1.75, 1.93, 1.45, 1.72]\n",
    "definition = {\n",
    "              'boat' : \"lots of fun\", \n",
    "              'wedding':\"a form of ceremony\", \n",
    "              'eclair': \"a cake, long in shape but short in duration\", \n",
    "              'pink':\"a yellow lake\", \n",
    "              'ynambu':\"a very large tinamou\"\n",
    "             }\n",
    "\n",
    "height[2]\n",
    "print(definition['pink'])\n",
    "\n",
    "definition.keys()\n",
    "definition.values()"
   ]
  },
  {
   "cell_type": "code",
   "execution_count": null,
   "id": "7f30bd62",
   "metadata": {},
   "outputs": [],
   "source": [
    "#print('pink' in definition)\n",
    "#print('pink' in definition.keys())\n",
    "print('pink' in definition.values())"
   ]
  },
  {
   "cell_type": "code",
   "execution_count": null,
   "id": "a607a72e",
   "metadata": {},
   "outputs": [],
   "source": [
    "height_list = [['Alexis Archer', 1.74], \n",
    "               ['Barry Bagsley', 1.61], \n",
    "               ['Coralie Creevey', 2.0], \n",
    "               [\"Donal d'Arques\", 1.44], \n",
    "               ['Ernestine Eccles', 1.53], ['Frank Fellowes', 1.52], \n",
    "               ['Gertrude Gainsborough', 1.57], ['Harry Hotspur', 1.61], \n",
    "               ['Ilona Iliffe', 1.83], ['Jeremy Janssen', 1.57], \n",
    "               ['Kellie Kang', 2.01], ['Laurence Lamprey', 1.47], \n",
    "               ['Melissa Mundey', 1.57], ['Ngoc Nguyen', 2.06], \n",
    "               ['Ondine Oswald', 1.92], ['Peter Peters', 1.97], \n",
    "               ['Queenie Quincy', 1.82], ['Randolph Rush', 1.95], \n",
    "               ['Simone Semple', 1.92], ['Tony Tan', 1.46], \n",
    "               ['Ugberta Urdorfer', 1.79], ['Vinnie Verona', 2.1], \n",
    "               ['Wilhelmina Williams', 1.78], ['Xenos Xenophon', 1.7], \n",
    "               ['Yolande Yorgensen', 1.91], ['Zeke Zammit', 1.5]]\n",
    "\n",
    "\n",
    "height_list[0][1]"
   ]
  },
  {
   "cell_type": "code",
   "execution_count": null,
   "id": "f1707bd2",
   "metadata": {},
   "outputs": [],
   "source": [
    "height_dict = {'Alexis Archer':1.74, 'Barry Bagsley':1.61, \n",
    "               'Coralie Creevey':2.0, \"Donal d'Arques\":1.44, \n",
    "               'Ernestine Eccles':1.53, 'Frank Fellowes':1.52, \n",
    "               'Gertrude Gainsborough':1.57, 'Harry Hotspur':1.61, \n",
    "               'Ilona Iliffe':1.83, 'Jeremy Janssen':1.57, \n",
    "               'Kellie Kang':2.01, 'Laurence Lamprey':1.47, \n",
    "               'Melissa Mundey':1.57, 'Ngoc Nguyen':2.06, \n",
    "               'Ondine Oswald':1.92, 'Peter Peters':1.97, \n",
    "               'Queenie Quincy':1.82, 'Randolph Rush':1.95, \n",
    "               'Simone Semple':1.92, 'Tony Tan':1.46, \n",
    "               'Ugberta Urdorfer':1.79, 'Vinnie Verona':2.1, \n",
    "               'Wilhelmina Williams':1.78, 'Xenos Xenophon':1.7, \n",
    "               'Yolande Yorgensen':1.91, 'Zeke Zammit':1.5}\n",
    "      \n",
    "name = 'Melissa Mundey'\n",
    "height_dict[name]"
   ]
  },
  {
   "cell_type": "markdown",
   "id": "ffda8c88",
   "metadata": {},
   "source": [
    "### Demonstration of different data structures through examples\n",
    "### Example 1\n",
    "\n",
    "### Creating and operating on fruits using different data structures\n"
   ]
  },
  {
   "cell_type": "code",
   "execution_count": null,
   "id": "0ef2e288",
   "metadata": {},
   "outputs": [],
   "source": [
    "# Using Lists\n",
    "\n",
    "# initializing list of fruits\n",
    "fruits = [\"apple\", \"banana\", \"cherry\", \"dates\", \"elderberry\"]\n",
    "\n",
    "# display the list of fruits\n",
    "print(\"The list of fruits is: \", fruits)\n",
    "\n",
    "# adding a new fruit to the list\n",
    "fruits.append(\"fig\")\n",
    "print(\"\\nThe updated list of fruits is: \", fruits)\n",
    "\n",
    "# inserting a new fruit at a specific index\n",
    "fruits.insert(2, \"grapes\")\n",
    "print(\"\\nThe updated list of fruits after inserting at index 2: \", fruits)\n",
    "\n",
    "# removing a fruit from the list\n",
    "fruits.remove(\"banana\")\n",
    "print(\"\\nThe updated list of fruits after removing 'banana': \", fruits)\n",
    "\n",
    "# sorting the list of fruits\n",
    "fruits.sort()\n",
    "print(\"\\nThe sorted list of fruits: \", fruits)\n",
    "\n",
    "# reversing the list of fruits\n",
    "fruits.reverse()\n",
    "print(\"\\nThe reversed list of fruits: \", fruits)\n",
    "\n",
    "# finding the index of a fruit in the list\n",
    "index = fruits.index(\"cherry\")\n",
    "print(\"\\nThe index of 'cherry' in the list is: \", index)\n",
    "\n",
    "# count the number of occurences of a fruit in the list\n",
    "count = fruits.count(\"elderberry\")\n",
    "print(\"\\nThe count of 'elderberry' in the list is: \", count)"
   ]
  },
  {
   "cell_type": "code",
   "execution_count": null,
   "id": "7d7b561f",
   "metadata": {},
   "outputs": [],
   "source": [
    "# Using dictionaries\n",
    "\n",
    "# initializing dictionary of fruits\n",
    "fruits = {\"1\": \"apple\", \"3\": \"banana\", \"2\": \"cherry\", \"5\": \"dates\", \"4\": \"elderberry\"}\n",
    "\n",
    "# display the dictionary of fruits\n",
    "print(\"The dictionary of fruits is: \", fruits)\n",
    "\n",
    "# adding a new fruit to the dictionary\n",
    "fruits[\"6\"] = \"fig\"\n",
    "print(\"\\nThe updated dictionary of fruits is: \", fruits)\n",
    "\n",
    "# updating the value of a fruit in the dictionary\n",
    "fruits[\"2\"] = \"grapes\"\n",
    "print(\"\\nThe updated dictionary of fruits after updating key 2: \", fruits)\n",
    "\n",
    "# removing a fruit from the dictionary\n",
    "fruits.pop(\"2\")\n",
    "print(\"\\nThe updated dictionary of fruits after removing key 2: \", fruits)\n",
    "\n",
    "# sorting the keys of the dictionary\n",
    "print(fruits.items())\n",
    "sorted_fruits = dict(sorted(fruits.items()))\n",
    "#sorted_fruits = dict(sorted(fruits.keys())) does it wirk??\n",
    "print(\"\\nThe sorted dictionary of fruits: \", sorted_fruits)\n",
    "\n",
    "# finding the value of a fruit in the dictionary\n",
    "# fruit = fruits.get(\"3\")\n",
    "# OR\n",
    "fruit = fruits[\"3\"]\n",
    "print(\"\\nThe value of key 3 in the dictionary is: \", fruit)\n",
    "\n",
    "# count the number of keys in the dictionary\n",
    "count = len(fruits)\n",
    "print(\"\\nThe number of keys in the dictionary is: \", count)"
   ]
  },
  {
   "cell_type": "code",
   "execution_count": null,
   "id": "911b878c",
   "metadata": {},
   "outputs": [],
   "source": [
    "# Using tuples:\n",
    "\n",
    "# initializing tuple of fruits\n",
    "fruits = (\"apple\", \"banana\", \"cherry\", \"dates\", \"elderberry\")\n",
    "\n",
    "# display the tuple of fruits\n",
    "print(\"The tuple of fruits is: \", fruits)\n",
    "\n",
    "# print(fruits.sort()) # does not seem to work\n",
    "\n",
    "# finding the index of a fruit in the tuple\n",
    "index = fruits.index(\"cherry\")\n",
    "print(\"\\nThe index of 'cherry' in the tuple is: \", index)\n",
    "\n",
    "# count the number of occurences of a fruit in the tuple\n",
    "count = fruits.count(\"elderberry\")\n",
    "print(\"\\nThe count of 'elderberry' in the tuple is: \", count)\n",
    "\n",
    "#Note: Some of the functionalities that are available in lists are not \n",
    "# available in tuples, such as appending, inserting, and removing elements."
   ]
  },
  {
   "cell_type": "code",
   "execution_count": null,
   "id": "59e25e4f",
   "metadata": {},
   "outputs": [],
   "source": [
    "# using the set() function and set operations:\n",
    "\n",
    "# initializing set of fruits\n",
    "#fruits = set([\"apple\", \"banana\", \"cherry\", \"dates\", \"elderberry\"])\n",
    "#OR,\n",
    "fruits = set({\"apple\", \"banana\", \"cherry\", \"dates\", \"elderberry\"})\n",
    "#OR, \n",
    "fruits = {\"apple\", \"banana\", \"cherry\", \"dates\", \"elderberry\"}\n",
    "\n",
    "# display the set of fruits\n",
    "print(\"The set of fruits is: \", fruits)\n",
    "\n",
    "# adding a new fruit to the set\n",
    "fruits.add(\"fig\")\n",
    "\n",
    "print(\"\\nThe updated set of fruits is: \", fruits)\n",
    "\n",
    "# adding the same fruit again to the set\n",
    "fruits.add(\"fig\")\n",
    "print(\"\\nAdded the same item again , but no change in set !!: \", fruits)\n",
    "\n",
    "# removing a fruit from the set\n",
    "fruits.remove(\"banana\")\n",
    "print(\"\\nThe updated set of fruits after removing 'banana': \", fruits)\n",
    "\n",
    "# finding union of two sets\n",
    "other_fruits = set([\"grapes\", \"kiwi\"])\n",
    "all_fruits = fruits.union(other_fruits)\n",
    "print(\"\\nThe union of the two sets: \", all_fruits)\n",
    "\n",
    "# finding the difference of two sets\n",
    "fruits_diff = all_fruits.difference(fruits)\n",
    "print(\"\\nThe difference of the two sets: \", fruits_diff)\n",
    "\n",
    "# finding the intersection of two sets\n",
    "fruits_intersection = all_fruits.intersection(fruits)\n",
    "print(\"\\nThe intersection of the two sets: \", fruits_intersection)\n",
    "\n",
    "# finding the number of occurences of a fruit in the set\n",
    "count = len([fruit for fruit in fruits if fruit == \"elderberry\"])\n",
    "print(\"\\nThe count of 'elderberry' in the set is: \", count)# will be always 1\n",
    "\n",
    "\n",
    "\"\"\"\n",
    "Note that since sets are unordered, there is no concept of sorting or reversing a set. \n",
    "Also, sets do not have indices, so finding the index of an item in a set is not applicable. \n",
    "However, you can check if an item is in a set using the in operator. \n",
    "Additionally, a set is a data type where each element must be unique. \n",
    "This means that duplicates cannot exist in a set.\"\"\""
   ]
  },
  {
   "cell_type": "markdown",
   "id": "5ef259d2",
   "metadata": {},
   "source": [
    "### Python Packages\n",
    "\n",
    "#### Random"
   ]
  },
  {
   "cell_type": "code",
   "execution_count": 77,
   "id": "92fd5e6d",
   "metadata": {},
   "outputs": [],
   "source": [
    "import random\n",
    "#!pip install random"
   ]
  },
  {
   "cell_type": "code",
   "execution_count": null,
   "id": "0837a239",
   "metadata": {},
   "outputs": [],
   "source": [
    "random.random()\n",
    "# a fractional value between 0 - 1"
   ]
  },
  {
   "cell_type": "code",
   "execution_count": null,
   "id": "c15bc1ad",
   "metadata": {},
   "outputs": [],
   "source": [
    "random.randint(20,50) # giving a ran int between 20 and 50"
   ]
  },
  {
   "cell_type": "code",
   "execution_count": null,
   "id": "d6d1556c",
   "metadata": {},
   "outputs": [],
   "source": [
    "random.randrange(20,50,2)"
   ]
  },
  {
   "cell_type": "code",
   "execution_count": 82,
   "id": "6b28dc89",
   "metadata": {},
   "outputs": [
    {
     "data": {
      "text/plain": [
       "3"
      ]
     },
     "execution_count": 82,
     "metadata": {},
     "output_type": "execute_result"
    }
   ],
   "source": [
    "aList = [12,13,5,3,9,20]\n",
    "random.choice(aList)"
   ]
  },
  {
   "cell_type": "markdown",
   "id": "28f1c55a",
   "metadata": {},
   "source": [
    "#### Numpy\n",
    "\n",
    "We will learn some basics about numpy array compared to concept of List"
   ]
  },
  {
   "cell_type": "code",
   "execution_count": 84,
   "id": "6597e73d",
   "metadata": {},
   "outputs": [],
   "source": [
    "import numpy as np"
   ]
  },
  {
   "cell_type": "code",
   "execution_count": null,
   "id": "259c64bc",
   "metadata": {},
   "outputs": [],
   "source": [
    "aList = [[1,2,5,6],[2,8,5,9],[4,7,8,2]]\n",
    "print(aList)\n",
    "\n",
    "numArray  =  np.array(aList)\n",
    "print(numArray)"
   ]
  },
  {
   "cell_type": "code",
   "execution_count": null,
   "id": "bc4b1fb7",
   "metadata": {},
   "outputs": [],
   "source": [
    "# basic math operations\n",
    "print(aList *3)\n",
    "print(numArray *3)"
   ]
  },
  {
   "cell_type": "code",
   "execution_count": null,
   "id": "1c7b2c81",
   "metadata": {},
   "outputs": [],
   "source": [
    "# see the difference how the indexing is done\n",
    "print(aList[1][1])\n",
    "print(numArray[1,1])"
   ]
  },
  {
   "cell_type": "code",
   "execution_count": null,
   "id": "9e29074d",
   "metadata": {},
   "outputs": [],
   "source": [
    "# checking the shape of the numpy array\n",
    "numArray.shape"
   ]
  },
  {
   "cell_type": "code",
   "execution_count": null,
   "id": "64b6f620",
   "metadata": {},
   "outputs": [],
   "source": [
    "# flattening a n-dimensional array\n",
    "myFlattenArray = numArray.flatten()\n",
    "myFlattenArray"
   ]
  },
  {
   "cell_type": "code",
   "execution_count": null,
   "id": "8031eb82",
   "metadata": {},
   "outputs": [],
   "source": [
    "# creating a new array from flattened array\n",
    "myFlattenArray.reshape(2,6)"
   ]
  },
  {
   "cell_type": "code",
   "execution_count": null,
   "id": "31a9aee1",
   "metadata": {},
   "outputs": [],
   "source": [
    "# again see how ** works on list vs numpy arrays \n",
    "#[1,2,3]**2\n",
    "numArray**2"
   ]
  },
  {
   "cell_type": "code",
   "execution_count": null,
   "id": "df3c1669",
   "metadata": {},
   "outputs": [],
   "source": [
    "# Creating a matrix/ndarray of ones\n",
    "np.ones((3,4))"
   ]
  },
  {
   "cell_type": "code",
   "execution_count": null,
   "id": "4600529a",
   "metadata": {},
   "outputs": [],
   "source": [
    "# Creating a matrix/ndarray of zeros\n",
    "np.zeros((3,4))\n"
   ]
  },
  {
   "cell_type": "markdown",
   "id": "62f29004",
   "metadata": {},
   "source": [
    "#### Pandas\n",
    "\n",
    "Series\n",
    "\n",
    "one dimensional data structure with labels fom every value"
   ]
  },
  {
   "cell_type": "code",
   "execution_count": 96,
   "id": "68f5c75f",
   "metadata": {},
   "outputs": [],
   "source": [
    "import pandas as pd"
   ]
  },
  {
   "cell_type": "code",
   "execution_count": null,
   "id": "cb8990e2",
   "metadata": {},
   "outputs": [],
   "source": [
    "a1DList = [1,2,5,6,2,8,5,9,4,7,8,2]\n",
    "print(\"aList:\\n\", a1DList)\n",
    "\n",
    "# coverting into numpy array\n",
    "myArray = np.array(a1DList)\n",
    "print(\"\\nmyArray:\\n\", myArray)\n",
    "\n",
    "# converting into pandas series. Does not work on 3D list, as series is an one dimensional object\n",
    "mySeries = pd.Series(myArray)\n",
    "print(\"\\nmySeries:\\n\", mySeries)"
   ]
  },
  {
   "cell_type": "code",
   "execution_count": null,
   "id": "f439d65e",
   "metadata": {},
   "outputs": [],
   "source": [
    "# We can directly conver a 1D list into Series\n",
    "mySeries = pd.Series(a1DList)\n",
    "print(mySeries)"
   ]
  },
  {
   "cell_type": "code",
   "execution_count": null,
   "id": "c4b89eaf",
   "metadata": {},
   "outputs": [],
   "source": [
    "# creating a string list\n",
    "aList = [\"apple\", \"banana\", \"cherry\", \"dates\", \"elderberry\"]\n",
    "print(aList*2)\n",
    "\n",
    "# converting in numpy array. It WORKS ?!, however this is not meant to be so. ANyways, many mathematical operations \n",
    "# will not work on such numpy array\n",
    "myArray = np.array(aList)\n",
    "print(myArray*2)\n",
    "\n",
    "# now converting in pandas series\n",
    "mySeries = pd.Series(myArray)\n",
    "\n",
    "# printing all\n",
    "print(\"aList:\\n\", aList)\n",
    "\n",
    "print(\"\\nmyArray:\\n\", myArray)\n",
    "\n",
    "print(\"\\nmySeries:\\n\", mySeries)"
   ]
  },
  {
   "cell_type": "markdown",
   "id": "e1f48728",
   "metadata": {},
   "source": [
    "##### Creating a series from Dictionary"
   ]
  },
  {
   "cell_type": "code",
   "execution_count": null,
   "id": "a26426e5",
   "metadata": {},
   "outputs": [],
   "source": [
    "myDict1 = {\"a\":1,\"c\":5, \"d\":9}\n",
    "myDict1\n",
    "pd.Series(myDict1)"
   ]
  },
  {
   "cell_type": "code",
   "execution_count": null,
   "id": "46f9c445",
   "metadata": {},
   "outputs": [],
   "source": [
    "myDict1 = {1:\"a\",5:\"c\", 9:\"d\"}\n",
    "myDict1\n",
    "pd.Series(myDict1)"
   ]
  },
  {
   "cell_type": "code",
   "execution_count": null,
   "id": "dc4658bb",
   "metadata": {},
   "outputs": [],
   "source": [
    "# directly converting a list into series\n",
    "pd.Series([1,2,3])"
   ]
  },
  {
   "cell_type": "code",
   "execution_count": null,
   "id": "3a2594ca",
   "metadata": {},
   "outputs": [],
   "source": [
    "# directly converting a list into series with index\n",
    "pd.Series([1,2,3], index = ['apple','banana','dates'])"
   ]
  },
  {
   "cell_type": "markdown",
   "id": "5671f0b1",
   "metadata": {},
   "source": [
    "<b>Data Frames\n",
    "\n",
    "    2 dimensional data structure for labels for every row and column"
   ]
  },
  {
   "cell_type": "code",
   "execution_count": null,
   "id": "3a907e8e",
   "metadata": {},
   "outputs": [],
   "source": [
    "a3DList = [[1,2,5,6],[2,8,5,9],[4,7,8,2]]\n",
    "a3DList\n",
    "np.array(a3DList)\n",
    "pd.DataFrame(a3DList)\n",
    "\n",
    "print(a3DList)\n",
    "print(np.array(a3DList))\n",
    "print(pd.DataFrame(a3DList))"
   ]
  },
  {
   "cell_type": "markdown",
   "id": "db510526",
   "metadata": {},
   "source": [
    "<b>Converting a two dim list into data frame with col names"
   ]
  },
  {
   "cell_type": "code",
   "execution_count": null,
   "id": "beba865d",
   "metadata": {},
   "outputs": [],
   "source": [
    "height_list = [['Alexis Archer', 1.74], ['Barry Bagsley', 1.61], \n",
    "               ['Coralie Creevey', 2.0], [\"Donal d'Arques\", 1.44], \n",
    "               ['Ernestine Eccles', 1.53], ['Frank Fellowes', 1.52], \n",
    "               ['Gertrude Gainsborough', 1.57], ['Harry Hotspur', 1.61], \n",
    "               ['Ilona Iliffe', 1.83], ['Jeremy Janssen', 1.57], \n",
    "               ['Kellie Kang', 2.01], ['Laurence Lamprey', 1.47], \n",
    "               ['Melissa Mundey', 1.57], ['Ngoc Nguyen', 2.06], \n",
    "               ['Ondine Oswald', 1.92], ['Peter Peters', 1.97], \n",
    "               ['Queenie Quincy', 1.82], ['Randolph Rush', 1.95], \n",
    "               ['Simone Semple', 1.92], ['Tony Tan', 1.46], \n",
    "               ['Ugberta Urdorfer', 1.79], ['Vinnie Verona', 2.1], \n",
    "               ['Wilhelmina Williams', 1.78], ['Xenos Xenophon', 1.7], \n",
    "               ['Yolande Yorgensen', 1.91], ['Zeke Zammit', 1.5]]\n",
    "#print(height_list)\n",
    "print(np.array(height_list))\n",
    "df1 = pd.DataFrame(height_list, columns = ['name','height'])\n",
    "df1\n",
    "#print(pd.DataFrame(height_list))"
   ]
  },
  {
   "cell_type": "markdown",
   "id": "351a21d6",
   "metadata": {},
   "source": [
    "<b>Converting a dict into data frame"
   ]
  },
  {
   "cell_type": "code",
   "execution_count": null,
   "id": "438510d4",
   "metadata": {},
   "outputs": [],
   "source": [
    "height_dict = {'Alexis Archer':1.74, 'Barry Bagsley':1.61, 'Coralie Creevey':2.0, \n",
    "               \"Donal d'Arques\":1.44, 'Ernestine Eccles':1.53, 'Frank Fellowes':1.52, \n",
    "               'Gertrude Gainsborough':1.57, 'Harry Hotspur':1.61, 'Ilona Iliffe':1.83, \n",
    "               'Jeremy Janssen':1.57, 'Kellie Kang':2.01, 'Laurence Lamprey':1.47, \n",
    "               'Melissa Mundey':1.57, 'Ngoc Nguyen':2.06, 'Ondine Oswald':1.92, \n",
    "               'Peter Peters':1.97, 'Queenie Quincy':1.82, 'Randolph Rush':1.95, \n",
    "               'Simone Semple':1.92, 'Tony Tan':1.46, 'Ugberta Urdorfer':1.79, \n",
    "               'Vinnie Verona':2.1, 'Wilhelmina Williams':1.78, 'Xenos Xenophon':1.7, \n",
    "               'Yolande Yorgensen':1.91, 'Zeke Zammit':1.5}\n",
    "\n",
    "df1 = pd.DataFrame.from_dict(height_dict, orient ='index', columns=['height']) \n",
    "# orient ='index' means take the keys as indexs; whereas orient ='columns' means take the keys as columns which is not what we want\n",
    "\n",
    "df1\n"
   ]
  },
  {
   "cell_type": "markdown",
   "id": "36efd07b",
   "metadata": {},
   "source": [
    "<b> Creating a data frame from series-dictionary"
   ]
  },
  {
   "cell_type": "code",
   "execution_count": null,
   "id": "dfdab797",
   "metadata": {},
   "outputs": [],
   "source": [
    "seriesDict = {'first': pd.Series([1.5,2.5,3.5], index = ['aa','bb', 'cc']),\n",
    "              'second': pd.Series([7.2,8.9,6.7,8.7], index = ['aa','bb', 'cc', 'dd'])}\n",
    "df2 = pd.DataFrame(seriesDict)\n",
    "df2\n",
    "#print(np.array(seriesDict))"
   ]
  },
  {
   "cell_type": "markdown",
   "id": "ea53ab24",
   "metadata": {},
   "source": [
    "<b> Column Selection"
   ]
  },
  {
   "cell_type": "code",
   "execution_count": null,
   "id": "06ba07ed",
   "metadata": {},
   "outputs": [],
   "source": [
    "df2['second']"
   ]
  },
  {
   "cell_type": "markdown",
   "id": "aacec813",
   "metadata": {},
   "source": [
    "<b> Adding and deleting a column"
   ]
  },
  {
   "cell_type": "code",
   "execution_count": null,
   "id": "422857e6",
   "metadata": {},
   "outputs": [],
   "source": [
    "seriesTemp = pd.Series([45,67,23,79], index = ['aa','bb','cc','ee'])\n",
    "df2['third'] = seriesTemp\n",
    "df2['fourth'] = [4,5,6,7]\n",
    "df2"
   ]
  },
  {
   "cell_type": "code",
   "execution_count": null,
   "id": "2a86e921",
   "metadata": {},
   "outputs": [],
   "source": [
    "del df2['third']\n",
    "df2"
   ]
  },
  {
   "cell_type": "markdown",
   "id": "c0718bc0",
   "metadata": {},
   "source": [
    "<b> Slicing"
   ]
  },
  {
   "cell_type": "code",
   "execution_count": null,
   "id": "dab08cd9",
   "metadata": {
    "scrolled": true
   },
   "outputs": [],
   "source": [
    "df3 = pd.DataFrame(np.random.randn(10,4), columns = ['col1','col2','col3','col4'])\n",
    "df3"
   ]
  },
  {
   "cell_type": "code",
   "execution_count": null,
   "id": "b7cb5a21",
   "metadata": {},
   "outputs": [],
   "source": []
  }
 ],
 "metadata": {
  "kernelspec": {
   "display_name": "Python 3 (ipykernel)",
   "language": "python",
   "name": "python3"
  },
  "language_info": {
   "codemirror_mode": {
    "name": "ipython",
    "version": 3
   },
   "file_extension": ".py",
   "mimetype": "text/x-python",
   "name": "python",
   "nbconvert_exporter": "python",
   "pygments_lexer": "ipython3",
   "version": "3.11.8"
  }
 },
 "nbformat": 4,
 "nbformat_minor": 5
}
