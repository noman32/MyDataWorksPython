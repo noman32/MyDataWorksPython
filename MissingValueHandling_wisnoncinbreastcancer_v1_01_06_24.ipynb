{
 "cells": [
  {
   "cell_type": "code",
   "execution_count": 1,
   "metadata": {},
   "outputs": [],
   "source": [
    "import pandas as pd\n",
    "import numpy as np\n"
   ]
  },
  {
   "cell_type": "code",
   "execution_count": 2,
   "metadata": {},
   "outputs": [],
   "source": [
    "from sklearn.linear_model import LogisticRegression, LinearRegression\n",
    "\n",
    "from sklearn.model_selection import train_test_split\n",
    "from sklearn.metrics import accuracy_score\n",
    "from sklearn.metrics import confusion_matrix\n",
    "from sklearn.metrics import classification_report\n",
    "\n",
    "from sklearn.impute import SimpleImputer, KNNImputer"
   ]
  },
  {
   "cell_type": "code",
   "execution_count": 4,
   "metadata": {},
   "outputs": [
    {
     "data": {
      "text/html": [
       "<div>\n",
       "<style scoped>\n",
       "    .dataframe tbody tr th:only-of-type {\n",
       "        vertical-align: middle;\n",
       "    }\n",
       "\n",
       "    .dataframe tbody tr th {\n",
       "        vertical-align: top;\n",
       "    }\n",
       "\n",
       "    .dataframe thead th {\n",
       "        text-align: right;\n",
       "    }\n",
       "</style>\n",
       "<table border=\"1\" class=\"dataframe\">\n",
       "  <thead>\n",
       "    <tr style=\"text-align: right;\">\n",
       "      <th></th>\n",
       "      <th>0</th>\n",
       "      <th>1</th>\n",
       "      <th>2</th>\n",
       "      <th>3</th>\n",
       "      <th>4</th>\n",
       "      <th>5</th>\n",
       "      <th>6</th>\n",
       "      <th>7</th>\n",
       "      <th>8</th>\n",
       "      <th>9</th>\n",
       "      <th>10</th>\n",
       "    </tr>\n",
       "  </thead>\n",
       "  <tbody>\n",
       "    <tr>\n",
       "      <th>0</th>\n",
       "      <td>1000025</td>\n",
       "      <td>5</td>\n",
       "      <td>1</td>\n",
       "      <td>1</td>\n",
       "      <td>1</td>\n",
       "      <td>2</td>\n",
       "      <td>1.0</td>\n",
       "      <td>3</td>\n",
       "      <td>1</td>\n",
       "      <td>1</td>\n",
       "      <td>2</td>\n",
       "    </tr>\n",
       "    <tr>\n",
       "      <th>1</th>\n",
       "      <td>1002945</td>\n",
       "      <td>5</td>\n",
       "      <td>4</td>\n",
       "      <td>4</td>\n",
       "      <td>5</td>\n",
       "      <td>7</td>\n",
       "      <td>10.0</td>\n",
       "      <td>3</td>\n",
       "      <td>2</td>\n",
       "      <td>1</td>\n",
       "      <td>2</td>\n",
       "    </tr>\n",
       "    <tr>\n",
       "      <th>2</th>\n",
       "      <td>1015425</td>\n",
       "      <td>3</td>\n",
       "      <td>1</td>\n",
       "      <td>1</td>\n",
       "      <td>1</td>\n",
       "      <td>2</td>\n",
       "      <td>2.0</td>\n",
       "      <td>3</td>\n",
       "      <td>1</td>\n",
       "      <td>1</td>\n",
       "      <td>2</td>\n",
       "    </tr>\n",
       "    <tr>\n",
       "      <th>3</th>\n",
       "      <td>1016277</td>\n",
       "      <td>6</td>\n",
       "      <td>8</td>\n",
       "      <td>8</td>\n",
       "      <td>1</td>\n",
       "      <td>3</td>\n",
       "      <td>4.0</td>\n",
       "      <td>3</td>\n",
       "      <td>7</td>\n",
       "      <td>1</td>\n",
       "      <td>2</td>\n",
       "    </tr>\n",
       "    <tr>\n",
       "      <th>4</th>\n",
       "      <td>1017023</td>\n",
       "      <td>4</td>\n",
       "      <td>1</td>\n",
       "      <td>1</td>\n",
       "      <td>3</td>\n",
       "      <td>2</td>\n",
       "      <td>1.0</td>\n",
       "      <td>3</td>\n",
       "      <td>1</td>\n",
       "      <td>1</td>\n",
       "      <td>2</td>\n",
       "    </tr>\n",
       "  </tbody>\n",
       "</table>\n",
       "</div>"
      ],
      "text/plain": [
       "        0   1   2   3   4   5     6   7   8   9   10\n",
       "0  1000025   5   1   1   1   2   1.0   3   1   1   2\n",
       "1  1002945   5   4   4   5   7  10.0   3   2   1   2\n",
       "2  1015425   3   1   1   1   2   2.0   3   1   1   2\n",
       "3  1016277   6   8   8   1   3   4.0   3   7   1   2\n",
       "4  1017023   4   1   1   3   2   1.0   3   1   1   2"
      ]
     },
     "execution_count": 4,
     "metadata": {},
     "output_type": "execute_result"
    }
   ],
   "source": [
    "# Load data\n",
    "data = pd.read_csv(r'C:\\Users\\noman\\My Drive\\ABP\\ABP DSBA Batch 03\\Unit 03\\Seesion 02_missing data\\breast-cancer-wisconsin.txt', header=None, na_values='?')\n",
    "data.head()"
   ]
  },
  {
   "cell_type": "code",
   "execution_count": 5,
   "metadata": {},
   "outputs": [
    {
     "data": {
      "text/plain": [
       "Index([0, 1, 2, 3, 4, 5, 6, 7, 8, 9, 10], dtype='int64')"
      ]
     },
     "execution_count": 5,
     "metadata": {},
     "output_type": "execute_result"
    }
   ],
   "source": [
    "data.columns"
   ]
  },
  {
   "cell_type": "code",
   "execution_count": 6,
   "metadata": {},
   "outputs": [],
   "source": [
    "# Add column names\n",
    "cols = ['V1', 'V2', 'V3', 'V4', 'V5', 'V6', 'V7', 'V8', 'V9', 'V10', 'V11']\n"
   ]
  },
  {
   "cell_type": "code",
   "execution_count": 7,
   "metadata": {},
   "outputs": [
    {
     "data": {
      "text/plain": [
       "['V1', 'V2', 'V3', 'V4', 'V5', 'V6', 'V7', 'V8', 'V9', 'V10', 'V11']"
      ]
     },
     "execution_count": 7,
     "metadata": {},
     "output_type": "execute_result"
    }
   ],
   "source": [
    "cols"
   ]
  },
  {
   "cell_type": "code",
   "execution_count": 8,
   "metadata": {},
   "outputs": [],
   "source": [
    "data.columns = cols"
   ]
  },
  {
   "cell_type": "code",
   "execution_count": 9,
   "metadata": {},
   "outputs": [
    {
     "data": {
      "text/plain": [
       "Index(['V1', 'V2', 'V3', 'V4', 'V5', 'V6', 'V7', 'V8', 'V9', 'V10', 'V11'], dtype='object')"
      ]
     },
     "execution_count": 9,
     "metadata": {},
     "output_type": "execute_result"
    }
   ],
   "source": [
    "data.columns"
   ]
  },
  {
   "cell_type": "code",
   "execution_count": 19,
   "metadata": {},
   "outputs": [
    {
     "data": {
      "text/plain": [
       "array([ 1., 10.,  2.,  4.,  3.,  9.,  7., nan,  5.,  8.,  6.])"
      ]
     },
     "execution_count": 19,
     "metadata": {},
     "output_type": "execute_result"
    }
   ],
   "source": [
    "data['V7'].unique()"
   ]
  },
  {
   "cell_type": "code",
   "execution_count": 11,
   "metadata": {},
   "outputs": [
    {
     "name": "stdout",
     "output_type": "stream",
     "text": [
      "V1      0\n",
      "V2      0\n",
      "V3      0\n",
      "V4      0\n",
      "V5      0\n",
      "V6      0\n",
      "V7     16\n",
      "V8      0\n",
      "V9      0\n",
      "V10     0\n",
      "V11     0\n",
      "dtype: int64\n"
     ]
    }
   ],
   "source": [
    "print(data.isnull().sum())"
   ]
  },
  {
   "cell_type": "code",
   "execution_count": 15,
   "metadata": {},
   "outputs": [
    {
     "name": "stdout",
     "output_type": "stream",
     "text": [
      "V1      0\n",
      "V2      0\n",
      "V3      0\n",
      "V4      0\n",
      "V5      0\n",
      "V6      0\n",
      "V7     16\n",
      "V8      0\n",
      "V9      0\n",
      "V10     0\n",
      "V11     0\n",
      "dtype: int64\n",
      "V1      0\n",
      "V2      0\n",
      "V3      0\n",
      "V4      0\n",
      "V5      0\n",
      "V6      0\n",
      "V7     16\n",
      "V8      0\n",
      "V9      0\n",
      "V10     0\n",
      "V11     0\n",
      "dtype: int64\n"
     ]
    }
   ],
   "source": [
    "# Check for missing values\n",
    "data.replace('?', np.nan, inplace=True)\n",
    "print(data.isnull().sum())\n",
    "data['V7'] = data['V7'].astype(float)\n",
    "print(data.isnull().sum())"
   ]
  },
  {
   "cell_type": "code",
   "execution_count": 22,
   "metadata": {},
   "outputs": [
    {
     "name": "stdout",
     "output_type": "stream",
     "text": [
      "V1      0\n",
      "V2      0\n",
      "V3      0\n",
      "V4      0\n",
      "V5      0\n",
      "V6      0\n",
      "V7     16\n",
      "V8      0\n",
      "V9      0\n",
      "V10     0\n",
      "V11     0\n",
      "dtype: int64\n"
     ]
    }
   ],
   "source": [
    "print(data.isnull().sum())"
   ]
  },
  {
   "cell_type": "code",
   "execution_count": 21,
   "metadata": {},
   "outputs": [
    {
     "data": {
      "text/html": [
       "<div>\n",
       "<style scoped>\n",
       "    .dataframe tbody tr th:only-of-type {\n",
       "        vertical-align: middle;\n",
       "    }\n",
       "\n",
       "    .dataframe tbody tr th {\n",
       "        vertical-align: top;\n",
       "    }\n",
       "\n",
       "    .dataframe thead th {\n",
       "        text-align: right;\n",
       "    }\n",
       "</style>\n",
       "<table border=\"1\" class=\"dataframe\">\n",
       "  <thead>\n",
       "    <tr style=\"text-align: right;\">\n",
       "      <th></th>\n",
       "      <th>V1</th>\n",
       "      <th>V2</th>\n",
       "      <th>V3</th>\n",
       "      <th>V4</th>\n",
       "      <th>V5</th>\n",
       "      <th>V6</th>\n",
       "      <th>V7</th>\n",
       "      <th>V8</th>\n",
       "      <th>V9</th>\n",
       "      <th>V10</th>\n",
       "      <th>V11</th>\n",
       "    </tr>\n",
       "  </thead>\n",
       "  <tbody>\n",
       "    <tr>\n",
       "      <th>30</th>\n",
       "      <td>1070935</td>\n",
       "      <td>3</td>\n",
       "      <td>1</td>\n",
       "      <td>1</td>\n",
       "      <td>1</td>\n",
       "      <td>1</td>\n",
       "      <td>1.0</td>\n",
       "      <td>2</td>\n",
       "      <td>1</td>\n",
       "      <td>1</td>\n",
       "      <td>0</td>\n",
       "    </tr>\n",
       "    <tr>\n",
       "      <th>142</th>\n",
       "      <td>1183983</td>\n",
       "      <td>9</td>\n",
       "      <td>5</td>\n",
       "      <td>5</td>\n",
       "      <td>4</td>\n",
       "      <td>4</td>\n",
       "      <td>5.0</td>\n",
       "      <td>4</td>\n",
       "      <td>3</td>\n",
       "      <td>3</td>\n",
       "      <td>1</td>\n",
       "    </tr>\n",
       "    <tr>\n",
       "      <th>44</th>\n",
       "      <td>1103608</td>\n",
       "      <td>10</td>\n",
       "      <td>10</td>\n",
       "      <td>10</td>\n",
       "      <td>4</td>\n",
       "      <td>8</td>\n",
       "      <td>1.0</td>\n",
       "      <td>8</td>\n",
       "      <td>10</td>\n",
       "      <td>1</td>\n",
       "      <td>1</td>\n",
       "    </tr>\n",
       "    <tr>\n",
       "      <th>92</th>\n",
       "      <td>1157734</td>\n",
       "      <td>4</td>\n",
       "      <td>1</td>\n",
       "      <td>1</td>\n",
       "      <td>1</td>\n",
       "      <td>2</td>\n",
       "      <td>1.0</td>\n",
       "      <td>3</td>\n",
       "      <td>1</td>\n",
       "      <td>1</td>\n",
       "      <td>0</td>\n",
       "    </tr>\n",
       "    <tr>\n",
       "      <th>579</th>\n",
       "      <td>824249</td>\n",
       "      <td>1</td>\n",
       "      <td>1</td>\n",
       "      <td>1</td>\n",
       "      <td>1</td>\n",
       "      <td>2</td>\n",
       "      <td>1.0</td>\n",
       "      <td>3</td>\n",
       "      <td>1</td>\n",
       "      <td>1</td>\n",
       "      <td>0</td>\n",
       "    </tr>\n",
       "  </tbody>\n",
       "</table>\n",
       "</div>"
      ],
      "text/plain": [
       "          V1  V2  V3  V4  V5  V6   V7  V8  V9  V10  V11\n",
       "30   1070935   3   1   1   1   1  1.0   2   1    1    0\n",
       "142  1183983   9   5   5   4   4  5.0   4   3    3    1\n",
       "44   1103608  10  10  10   4   8  1.0   8  10    1    1\n",
       "92   1157734   4   1   1   1   2  1.0   3   1    1    0\n",
       "579   824249   1   1   1   1   2  1.0   3   1    1    0"
      ]
     },
     "execution_count": 21,
     "metadata": {},
     "output_type": "execute_result"
    }
   ],
   "source": [
    "# Preprocess target variable (V11)\n",
    "data['V11'] = data['V11'].replace({2: 0, 4: 1})\n",
    "data.dropna(subset=['V11'], inplace=True)\n",
    "# some random rows to check\n",
    "data.sample(5)"
   ]
  },
  {
   "cell_type": "code",
   "execution_count": 23,
   "metadata": {},
   "outputs": [
    {
     "data": {
      "text/html": [
       "<div>\n",
       "<style scoped>\n",
       "    .dataframe tbody tr th:only-of-type {\n",
       "        vertical-align: middle;\n",
       "    }\n",
       "\n",
       "    .dataframe tbody tr th {\n",
       "        vertical-align: top;\n",
       "    }\n",
       "\n",
       "    .dataframe thead th {\n",
       "        text-align: right;\n",
       "    }\n",
       "</style>\n",
       "<table border=\"1\" class=\"dataframe\">\n",
       "  <thead>\n",
       "    <tr style=\"text-align: right;\">\n",
       "      <th></th>\n",
       "      <th>V2</th>\n",
       "      <th>V3</th>\n",
       "      <th>V4</th>\n",
       "      <th>V5</th>\n",
       "      <th>V6</th>\n",
       "      <th>V7</th>\n",
       "      <th>V8</th>\n",
       "      <th>V9</th>\n",
       "      <th>V10</th>\n",
       "    </tr>\n",
       "  </thead>\n",
       "  <tbody>\n",
       "    <tr>\n",
       "      <th>0</th>\n",
       "      <td>5</td>\n",
       "      <td>1</td>\n",
       "      <td>1</td>\n",
       "      <td>1</td>\n",
       "      <td>2</td>\n",
       "      <td>1.0</td>\n",
       "      <td>3</td>\n",
       "      <td>1</td>\n",
       "      <td>1</td>\n",
       "    </tr>\n",
       "    <tr>\n",
       "      <th>1</th>\n",
       "      <td>5</td>\n",
       "      <td>4</td>\n",
       "      <td>4</td>\n",
       "      <td>5</td>\n",
       "      <td>7</td>\n",
       "      <td>10.0</td>\n",
       "      <td>3</td>\n",
       "      <td>2</td>\n",
       "      <td>1</td>\n",
       "    </tr>\n",
       "    <tr>\n",
       "      <th>2</th>\n",
       "      <td>3</td>\n",
       "      <td>1</td>\n",
       "      <td>1</td>\n",
       "      <td>1</td>\n",
       "      <td>2</td>\n",
       "      <td>2.0</td>\n",
       "      <td>3</td>\n",
       "      <td>1</td>\n",
       "      <td>1</td>\n",
       "    </tr>\n",
       "    <tr>\n",
       "      <th>3</th>\n",
       "      <td>6</td>\n",
       "      <td>8</td>\n",
       "      <td>8</td>\n",
       "      <td>1</td>\n",
       "      <td>3</td>\n",
       "      <td>4.0</td>\n",
       "      <td>3</td>\n",
       "      <td>7</td>\n",
       "      <td>1</td>\n",
       "    </tr>\n",
       "    <tr>\n",
       "      <th>4</th>\n",
       "      <td>4</td>\n",
       "      <td>1</td>\n",
       "      <td>1</td>\n",
       "      <td>3</td>\n",
       "      <td>2</td>\n",
       "      <td>1.0</td>\n",
       "      <td>3</td>\n",
       "      <td>1</td>\n",
       "      <td>1</td>\n",
       "    </tr>\n",
       "  </tbody>\n",
       "</table>\n",
       "</div>"
      ],
      "text/plain": [
       "   V2  V3  V4  V5  V6    V7  V8  V9  V10\n",
       "0   5   1   1   1   2   1.0   3   1    1\n",
       "1   5   4   4   5   7  10.0   3   2    1\n",
       "2   3   1   1   1   2   2.0   3   1    1\n",
       "3   6   8   8   1   3   4.0   3   7    1\n",
       "4   4   1   1   3   2   1.0   3   1    1"
      ]
     },
     "execution_count": 23,
     "metadata": {},
     "output_type": "execute_result"
    }
   ],
   "source": [
    "X = data.drop(columns=['V1', 'V11'])\n",
    "X.head()"
   ]
  },
  {
   "cell_type": "code",
   "execution_count": 24,
   "metadata": {},
   "outputs": [
    {
     "data": {
      "text/plain": [
       "416    1\n",
       "585    0\n",
       "377    0\n",
       "29     0\n",
       "697    1\n",
       "Name: V11, dtype: int64"
      ]
     },
     "execution_count": 24,
     "metadata": {},
     "output_type": "execute_result"
    }
   ],
   "source": [
    "y = data['V11']\n",
    "y.sample(5)"
   ]
  },
  {
   "cell_type": "code",
   "execution_count": 25,
   "metadata": {},
   "outputs": [
    {
     "data": {
      "text/plain": [
       "[     V2  V3  V4  V5  V6    V7  V8  V9  V10\n",
       " 357   8  10  10   7  10  10.0   7   3    8\n",
       " 648   5  10  10  10  10   2.0  10  10   10\n",
       " 291   1   1   1   1   2   1.0   3   1    1\n",
       " 420   3   2   2   3   2   3.0   3   1    1\n",
       " 177   5  10  10   3   8   1.0   5  10    3\n",
       " ..   ..  ..  ..  ..  ..   ...  ..  ..  ...\n",
       " 71    6  10   2   8  10   2.0   7   8   10\n",
       " 106  10  10  10   8   2  10.0   4   1    1\n",
       " 270   8   4   7   1   3  10.0   3   9    2\n",
       " 435  10   8  10   1   3  10.0   5   1    1\n",
       " 102   4   1   2   1   2   1.0   3   1    1\n",
       " \n",
       " [489 rows x 9 columns],\n",
       "      V2  V3  V4  V5  V6    V7  V8  V9  V10\n",
       " 158   1   1   2   1   3   NaN   1   1    1\n",
       " 499   4   1   1   1   2   1.0   2   1    1\n",
       " 396   3   1   1   1   2   1.0   3   1    1\n",
       " 155   5   5   5   6   3  10.0   3   1    1\n",
       " 321   3   1   1   1   2   NaN   3   1    1\n",
       " ..   ..  ..  ..  ..  ..   ...  ..  ..  ...\n",
       " 11    2   1   1   1   2   1.0   2   1    1\n",
       " 659   1   1   1   1   2   1.0   1   1    1\n",
       " 567   4   1   1   1   2   3.0   2   1    1\n",
       " 178   4   1   1   1   2   1.0   3   1    1\n",
       " 533   3   1   1   1   2   1.0   2   1    1\n",
       " \n",
       " [210 rows x 9 columns],\n",
       " 357    1\n",
       " 648    1\n",
       " 291    0\n",
       " 420    0\n",
       " 177    1\n",
       "       ..\n",
       " 71     1\n",
       " 106    1\n",
       " 270    1\n",
       " 435    1\n",
       " 102    0\n",
       " Name: V11, Length: 489, dtype: int64,\n",
       " 158    0\n",
       " 499    0\n",
       " 396    0\n",
       " 155    1\n",
       " 321    0\n",
       "       ..\n",
       " 11     0\n",
       " 659    0\n",
       " 567    0\n",
       " 178    0\n",
       " 533    0\n",
       " Name: V11, Length: 210, dtype: int64]"
      ]
     },
     "execution_count": 25,
     "metadata": {},
     "output_type": "execute_result"
    }
   ],
   "source": [
    "train_test_split(X, y, test_size=0.3, random_state=42)"
   ]
  },
  {
   "cell_type": "code",
   "execution_count": 26,
   "metadata": {},
   "outputs": [
    {
     "data": {
      "text/html": [
       "<div>\n",
       "<style scoped>\n",
       "    .dataframe tbody tr th:only-of-type {\n",
       "        vertical-align: middle;\n",
       "    }\n",
       "\n",
       "    .dataframe tbody tr th {\n",
       "        vertical-align: top;\n",
       "    }\n",
       "\n",
       "    .dataframe thead th {\n",
       "        text-align: right;\n",
       "    }\n",
       "</style>\n",
       "<table border=\"1\" class=\"dataframe\">\n",
       "  <thead>\n",
       "    <tr style=\"text-align: right;\">\n",
       "      <th></th>\n",
       "      <th>V2</th>\n",
       "      <th>V3</th>\n",
       "      <th>V4</th>\n",
       "      <th>V5</th>\n",
       "      <th>V6</th>\n",
       "      <th>V8</th>\n",
       "      <th>V9</th>\n",
       "      <th>V10</th>\n",
       "    </tr>\n",
       "  </thead>\n",
       "  <tbody>\n",
       "    <tr>\n",
       "      <th>0</th>\n",
       "      <td>5</td>\n",
       "      <td>1</td>\n",
       "      <td>1</td>\n",
       "      <td>1</td>\n",
       "      <td>2</td>\n",
       "      <td>3</td>\n",
       "      <td>1</td>\n",
       "      <td>1</td>\n",
       "    </tr>\n",
       "    <tr>\n",
       "      <th>1</th>\n",
       "      <td>5</td>\n",
       "      <td>4</td>\n",
       "      <td>4</td>\n",
       "      <td>5</td>\n",
       "      <td>7</td>\n",
       "      <td>3</td>\n",
       "      <td>2</td>\n",
       "      <td>1</td>\n",
       "    </tr>\n",
       "    <tr>\n",
       "      <th>2</th>\n",
       "      <td>3</td>\n",
       "      <td>1</td>\n",
       "      <td>1</td>\n",
       "      <td>1</td>\n",
       "      <td>2</td>\n",
       "      <td>3</td>\n",
       "      <td>1</td>\n",
       "      <td>1</td>\n",
       "    </tr>\n",
       "    <tr>\n",
       "      <th>3</th>\n",
       "      <td>6</td>\n",
       "      <td>8</td>\n",
       "      <td>8</td>\n",
       "      <td>1</td>\n",
       "      <td>3</td>\n",
       "      <td>3</td>\n",
       "      <td>7</td>\n",
       "      <td>1</td>\n",
       "    </tr>\n",
       "    <tr>\n",
       "      <th>4</th>\n",
       "      <td>4</td>\n",
       "      <td>1</td>\n",
       "      <td>1</td>\n",
       "      <td>3</td>\n",
       "      <td>2</td>\n",
       "      <td>3</td>\n",
       "      <td>1</td>\n",
       "      <td>1</td>\n",
       "    </tr>\n",
       "  </tbody>\n",
       "</table>\n",
       "</div>"
      ],
      "text/plain": [
       "   V2  V3  V4  V5  V6  V8  V9  V10\n",
       "0   5   1   1   1   2   3   1    1\n",
       "1   5   4   4   5   7   3   2    1\n",
       "2   3   1   1   1   2   3   1    1\n",
       "3   6   8   8   1   3   3   7    1\n",
       "4   4   1   1   3   2   3   1    1"
      ]
     },
     "execution_count": 26,
     "metadata": {},
     "output_type": "execute_result"
    }
   ],
   "source": [
    "X = data.drop(columns=['V1', 'V7','V11'])\n",
    "X.head()"
   ]
  },
  {
   "cell_type": "code",
   "execution_count": 27,
   "metadata": {},
   "outputs": [
    {
     "data": {
      "text/plain": [
       "0    0\n",
       "1    0\n",
       "2    0\n",
       "3    0\n",
       "4    0\n",
       "Name: V11, dtype: int64"
      ]
     },
     "execution_count": 27,
     "metadata": {},
     "output_type": "execute_result"
    }
   ],
   "source": [
    "y = data['V11']\n",
    "y.head()"
   ]
  },
  {
   "cell_type": "code",
   "execution_count": 28,
   "metadata": {},
   "outputs": [
    {
     "data": {
      "text/plain": [
       "0.9613733905579399"
      ]
     },
     "execution_count": 28,
     "metadata": {},
     "output_type": "execute_result"
    }
   ],
   "source": [
    "model = LogisticRegression(max_iter=1000)\n",
    "model.fit(X, y)\n",
    "y_pred = model.predict(X)\n",
    "accuracy_score(y, y_pred)\n"
   ]
  },
  {
   "cell_type": "code",
   "execution_count": 29,
   "metadata": {},
   "outputs": [
    {
     "name": "stdout",
     "output_type": "stream",
     "text": [
      "0.9529652351738241\n"
     ]
    }
   ],
   "source": [
    "# testing the logisticregression code which we will run after each missing-value-handling strategy\n",
    "\n",
    "X = data.drop(columns=['V1','V7', 'V11'])\n",
    "y = data['V11']\n",
    "\n",
    "X_train, X_test, y_train, y_test = train_test_split(X, y, test_size=0.3, random_state=42)\n",
    "\n",
    "model = LogisticRegression(max_iter=1000)\n",
    "model.fit(X_train, y_train)\n",
    "\n",
    "y_pred_train = model.predict(X_train)\n",
    "y_pred_test = model.predict(X_test)\n",
    "\n",
    "# print(classification_report(y_test, y_pred))\n",
    "# print(confusion_matrix(y_test, y_pred))\n",
    "accuracy_scores  = accuracy_score(y_train, y_pred_train)\n",
    "print(accuracy_scores)"
   ]
  },
  {
   "cell_type": "code",
   "execution_count": 30,
   "metadata": {},
   "outputs": [],
   "source": [
    "# Function to run logistic regression and return accuracy\n",
    "def run_logistic_regression(data):\n",
    "    \n",
    "    X = data.drop(columns=['V1', 'V11'])\n",
    "    y = data['V11']\n",
    "    X_train, X_test, y_train, y_test = train_test_split(X, y, test_size=0.3, random_state=42)\n",
    "    model = LogisticRegression(max_iter=1000)\n",
    "    model.fit(X_train, y_train)\n",
    "    y_pred = model.predict(X_test)\n",
    "    return accuracy_score(y_test, y_pred)"
   ]
  },
  {
   "cell_type": "code",
   "execution_count": 31,
   "metadata": {},
   "outputs": [
    {
     "name": "stdout",
     "output_type": "stream",
     "text": [
      "Original data accuracy: 0.9560975609756097\n"
     ]
    }
   ],
   "source": [
    "# Original data accuracy without handling missing values\n",
    "dataremovedna = data.dropna(subset=['V7'])\n",
    "print(\"Original data accuracy:\", run_logistic_regression(dataremovedna))"
   ]
  },
  {
   "cell_type": "code",
   "execution_count": 32,
   "metadata": {},
   "outputs": [
    {
     "name": "stdout",
     "output_type": "stream",
     "text": [
      "Accuracy after removing rows with missing values: 0.9560975609756097\n"
     ]
    }
   ],
   "source": [
    "# 1. Remove rows with missing values in V7\n",
    "data_removed = data.dropna(subset=['V7'])\n",
    "print(\"Accuracy after removing rows with missing values:\", run_logistic_regression(data_removed))"
   ]
  },
  {
   "cell_type": "code",
   "execution_count": 33,
   "metadata": {},
   "outputs": [
    {
     "name": "stdout",
     "output_type": "stream",
     "text": [
      "Accuracy after replacing with mean: 0.9523809523809523\n"
     ]
    }
   ],
   "source": [
    "# 2. Replace missing values with mean using SimpleImputer\n",
    "imputer_mean = SimpleImputer(missing_values=np.nan, strategy='mean')\n",
    "data_mean = data.copy()\n",
    "data_mean['V7'] = imputer_mean.fit_transform(data_mean[['V7']])\n",
    "print(\"Accuracy after replacing with mean:\", run_logistic_regression(data_mean))"
   ]
  },
  {
   "cell_type": "code",
   "execution_count": 34,
   "metadata": {},
   "outputs": [
    {
     "name": "stdout",
     "output_type": "stream",
     "text": [
      "Accuracy after replacing with mode: 0.9619047619047619\n"
     ]
    }
   ],
   "source": [
    "# 3. Replace missing values with mode using SimpleImputer\n",
    "imputer_mode = SimpleImputer(strategy='most_frequent')\n",
    "data_mode = data.copy()\n",
    "data_mode['V7'] = imputer_mode.fit_transform(data_mode[['V7']])\n",
    "print(\"Accuracy after replacing with mode:\", run_logistic_regression(data_mode))"
   ]
  },
  {
   "cell_type": "code",
   "execution_count": 35,
   "metadata": {},
   "outputs": [
    {
     "name": "stdout",
     "output_type": "stream",
     "text": [
      "Accuracy after replacing with arbitrary number: 0.9666666666666667\n"
     ]
    }
   ],
   "source": [
    "# 4. Replace missing values with an arbitrary number (e.g., 0) using SimpleImputer\n",
    "imputer_arbitrary = SimpleImputer(strategy='constant', fill_value=0)\n",
    "data_arbitrary = data.copy()\n",
    "data_arbitrary['V7'] = imputer_arbitrary.fit_transform(data_arbitrary[['V7']])\n",
    "print(\"Accuracy after replacing with arbitrary number:\", run_logistic_regression(data_arbitrary))"
   ]
  },
  {
   "cell_type": "code",
   "execution_count": 36,
   "metadata": {},
   "outputs": [
    {
     "name": "stdout",
     "output_type": "stream",
     "text": [
      "Accuracy after KNN imputation: 0.9523809523809523\n"
     ]
    }
   ],
   "source": [
    "# 5. Replace missing values using KNN imputer\n",
    "knn_imputer = KNNImputer(n_neighbors=5)\n",
    "data_knn = data.copy()\n",
    "data_knn[['V2', 'V3', 'V4', 'V5', 'V6', 'V7', 'V8', 'V9', 'V10']] = knn_imputer.fit_transform(data_knn[['V2', 'V3', 'V4', 'V5', 'V6', 'V7', 'V8', 'V9', 'V10']])\n",
    "print(\"Accuracy after KNN imputation:\", run_logistic_regression(data_knn))"
   ]
  },
  {
   "cell_type": "code",
   "execution_count": 117,
   "metadata": {},
   "outputs": [
    {
     "name": "stdout",
     "output_type": "stream",
     "text": [
      "Accuracy after regression imputation: 0.9523809523809523\n"
     ]
    }
   ],
   "source": [
    "# 6. Replace missing values using linear regression of other predictors\n",
    "data_reg = data.copy()\n",
    "train = data_reg[data_reg['V7'].notnull()]\n",
    "test = data_reg[data_reg['V7'].isnull()]\n",
    "lin_reg = LinearRegression()\n",
    "lin_reg.fit(train.drop(columns=['V1', 'V7', 'V11']), train['V7'])\n",
    "predictions = lin_reg.predict(test.drop(columns=['V1', 'V7', 'V11']))\n",
    "data_reg.loc[data_reg['V7'].isnull(), 'V7'] = predictions\n",
    "print(\"Accuracy after regression imputation:\", run_logistic_regression(data_reg))"
   ]
  },
  {
   "cell_type": "code",
   "execution_count": 118,
   "metadata": {},
   "outputs": [
    {
     "name": "stdout",
     "output_type": "stream",
     "text": [
      "Accuracy after regression imputation with perturbation: 0.9619047619047619\n"
     ]
    }
   ],
   "source": [
    "\n",
    "\n",
    "# 7. Replace missing values using linear regression with perturbation\n",
    "data_reg_perturb = data.copy()\n",
    "train = data_reg_perturb[data_reg_perturb['V7'].notnull()]\n",
    "test = data_reg_perturb[data_reg_perturb['V7'].isnull()]\n",
    "lin_reg = LinearRegression()\n",
    "lin_reg.fit(train.drop(columns=['V1', 'V7', 'V11']), train['V7'])\n",
    "predictions = lin_reg.predict(test.drop(columns=['V1', 'V7', 'V11']))\n",
    "\n",
    "perturbations = np.random.normal(0, 1, size=predictions.shape)\n",
    "\n",
    "\n",
    "data_reg_perturb.loc[data_reg_perturb['V7'].isnull(), 'V7'] = predictions + perturbations\n",
    "print(\"Accuracy after regression imputation with perturbation:\", run_logistic_regression(data_reg_perturb))\n"
   ]
  }
 ],
 "metadata": {
  "kernelspec": {
   "display_name": "Python 3",
   "language": "python",
   "name": "python3"
  },
  "language_info": {
   "codemirror_mode": {
    "name": "ipython",
    "version": 3
   },
   "file_extension": ".py",
   "mimetype": "text/x-python",
   "name": "python",
   "nbconvert_exporter": "python",
   "pygments_lexer": "ipython3",
   "version": "3.10.11"
  }
 },
 "nbformat": 4,
 "nbformat_minor": 2
}
